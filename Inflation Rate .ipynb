{
 "cells": [
  {
   "cell_type": "code",
   "execution_count": 1,
   "metadata": {},
   "outputs": [],
   "source": [
    "import pandas as pd\n",
    "\n",
    "# test with https://smartasset.com/investing/inflation-calculator#9ahZnYraPa"
   ]
  },
  {
   "cell_type": "code",
   "execution_count": 2,
   "metadata": {},
   "outputs": [
    {
     "data": {
      "text/plain": [
       "1.6"
      ]
     },
     "execution_count": 2,
     "metadata": {},
     "output_type": "execute_result"
    }
   ],
   "source": [
    "df = pd.read_csv('avg_inflation_rates.csv')\n",
    "dic = df.to_dict('split')\n",
    "lst = dic['data']\n",
    "new_dict = {item[0]:item[1] for item in lst}\n",
    "\n",
    "new_dict[2010]"
   ]
  },
  {
   "cell_type": "code",
   "execution_count": 3,
   "metadata": {},
   "outputs": [
    {
     "data": {
      "text/plain": [
       "{1914: 1.0,\n",
       " 1915: 1.0,\n",
       " 1916: 7.9,\n",
       " 1917: 17.4,\n",
       " 1918: 18.0,\n",
       " 1919: 14.6,\n",
       " 1920: 15.6,\n",
       " 1921: -10.5,\n",
       " 1922: -6.1,\n",
       " 1923: 1.8,\n",
       " 1924: 0.0,\n",
       " 1925: 2.3,\n",
       " 1926: 1.1,\n",
       " 1927: -1.7,\n",
       " 1928: -1.7,\n",
       " 1929: 0.0,\n",
       " 1930: -2.3,\n",
       " 1931: -9.0,\n",
       " 1932: -9.9,\n",
       " 1933: -5.1,\n",
       " 1934: 3.1,\n",
       " 1935: 2.2,\n",
       " 1936: 1.5,\n",
       " 1937: 3.6,\n",
       " 1938: -2.1,\n",
       " 1939: -1.4,\n",
       " 1940: 0.7,\n",
       " 1941: 5.0,\n",
       " 1942: 10.9,\n",
       " 1943: 6.1,\n",
       " 1944: 1.7,\n",
       " 1945: 2.3,\n",
       " 1946: 8.3,\n",
       " 1947: 14.4,\n",
       " 1948: 8.1,\n",
       " 1949: -1.2,\n",
       " 1950: 1.3,\n",
       " 1951: 7.9,\n",
       " 1952: 1.9,\n",
       " 1953: 0.8,\n",
       " 1954: 0.7,\n",
       " 1955: -0.4,\n",
       " 1956: 1.5,\n",
       " 1957: 3.3,\n",
       " 1958: 2.8,\n",
       " 1959: 0.7,\n",
       " 1960: 1.7,\n",
       " 1961: 1.0,\n",
       " 1962: 1.0,\n",
       " 1963: 1.3,\n",
       " 1964: 1.3,\n",
       " 1965: 1.6,\n",
       " 1966: 2.9,\n",
       " 1967: 3.1,\n",
       " 1968: 4.2,\n",
       " 1969: 5.5,\n",
       " 1970: 5.7,\n",
       " 1971: 4.4,\n",
       " 1972: 3.2,\n",
       " 1973: 6.2,\n",
       " 1974: 11.0,\n",
       " 1975: 9.1,\n",
       " 1976: 5.8,\n",
       " 1977: 6.5,\n",
       " 1978: 7.6,\n",
       " 1979: 11.3,\n",
       " 1980: 13.5,\n",
       " 1981: 10.3,\n",
       " 1982: 6.2,\n",
       " 1983: 3.2,\n",
       " 1984: 4.3,\n",
       " 1985: 3.6,\n",
       " 1986: 1.9,\n",
       " 1987: 3.6,\n",
       " 1988: 4.1,\n",
       " 1989: 4.8,\n",
       " 1990: 5.4,\n",
       " 1991: 4.2,\n",
       " 1992: 3.0,\n",
       " 1993: 3.0,\n",
       " 1994: 2.6,\n",
       " 1995: 2.8,\n",
       " 1996: 3.0,\n",
       " 1997: 2.3,\n",
       " 1998: 1.6,\n",
       " 1999: 2.2,\n",
       " 2000: 3.4,\n",
       " 2001: 2.8,\n",
       " 2002: 1.6,\n",
       " 2003: 2.3,\n",
       " 2004: 2.7,\n",
       " 2005: 3.4,\n",
       " 2006: 3.2,\n",
       " 2007: 2.8,\n",
       " 2008: 3.8,\n",
       " 2009: -0.4,\n",
       " 2010: 1.6,\n",
       " 2011: 3.2,\n",
       " 2012: 2.1,\n",
       " 2013: 1.5,\n",
       " 2014: 1.6,\n",
       " 2015: 0.1,\n",
       " 2016: 1.3,\n",
       " 2017: 2.1,\n",
       " 2018: 2.4,\n",
       " 2019: 1.8,\n",
       " 2020: 1.2}"
      ]
     },
     "execution_count": 3,
     "metadata": {},
     "output_type": "execute_result"
    }
   ],
   "source": [
    "new_dict"
   ]
  },
  {
   "cell_type": "code",
   "execution_count": null,
   "metadata": {},
   "outputs": [],
   "source": []
  }
 ],
 "metadata": {
  "kernelspec": {
   "display_name": "Python 3",
   "language": "python",
   "name": "python3"
  },
  "language_info": {
   "codemirror_mode": {
    "name": "ipython",
    "version": 3
   },
   "file_extension": ".py",
   "mimetype": "text/x-python",
   "name": "python",
   "nbconvert_exporter": "python",
   "pygments_lexer": "ipython3",
   "version": "3.8.5"
  }
 },
 "nbformat": 4,
 "nbformat_minor": 4
}
